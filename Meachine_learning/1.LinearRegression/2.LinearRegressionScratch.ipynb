{
 "cells": [
  {
   "cell_type": "code",
   "execution_count": 1,
   "id": "9e75ce5f-c312-4ba1-acee-b57e9ca9c8b3",
   "metadata": {},
   "outputs": [],
   "source": [
    "import numpy as np\n",
    "import pandas as pd"
   ]
  },
  {
   "cell_type": "code",
   "execution_count": 89,
   "id": "70f0cdc4-f400-4152-9133-81f596bfc490",
   "metadata": {},
   "outputs": [],
   "source": [
    "class MyOwnLR:\n",
    "    def __init__(self):\n",
    "        self.m=None\n",
    "        self.b=None\n",
    "        \n",
    "    def fit(self,x_train,y_train):\n",
    "        num=0\n",
    "        den=0\n",
    "        xmean=x_train.mean()\n",
    "        ymean=y_train.mean()\n",
    "        for i in range (x_train.shape[0]):\n",
    "            num=num+( (x_train[i]-xmean)   *    (y_train[i]-ymean ))\n",
    "            den=den+( (x_train[i]-xmean)   *    (x_train[i]-xmean) )\n",
    "        self.m=num/den\n",
    "        self.b = y_train.mean()- self.m*x_train.mean()\n",
    "        print(self.m)\n",
    "        print(self.b)\n",
    "            \n",
    "    def predict(self,x_test):\n",
    "        print(x_test)\n",
    "        return self.m*x_test+self.b\n",
    "    "
   ]
  },
  {
   "cell_type": "code",
   "execution_count": 91,
   "id": "96ae81ed-a895-4968-b473-fe20c36b4627",
   "metadata": {},
   "outputs": [],
   "source": [
    "df=pd.read_csv('placement.csv')\n",
    "df\n",
    "x=df.iloc[:,0].values\n",
    "y =df.iloc[:,1].values"
   ]
  },
  {
   "cell_type": "code",
   "execution_count": 92,
   "id": "5becf507-720b-44a9-b042-0155b8e31378",
   "metadata": {},
   "outputs": [],
   "source": [
    "from  sklearn.model_selection import train_test_split\n",
    "x_train,x_test,y_train,y_test= train_test_split(x,y,test_size=0.1,random_state=2)"
   ]
  },
  {
   "cell_type": "code",
   "execution_count": 93,
   "id": "f0e53800-ff25-4182-bafd-eec234fdb1d0",
   "metadata": {},
   "outputs": [
    {
     "name": "stdout",
     "output_type": "stream",
     "text": [
      "180\n",
      "180\n",
      "20\n",
      "20\n"
     ]
    }
   ],
   "source": [
    "print(x_train.size)\n",
    "print(y_train.size)\n",
    "print(x_test.size)\n",
    "print(y_test.size)"
   ]
  },
  {
   "cell_type": "code",
   "execution_count": 94,
   "id": "b0279d42-4d27-4d77-86c0-93a3deab78a2",
   "metadata": {},
   "outputs": [],
   "source": [
    "MOLR=MyOwnLR()"
   ]
  },
  {
   "cell_type": "code",
   "execution_count": 95,
   "id": "4a7516ac-1b58-4f96-a442-18cc2122e7e1",
   "metadata": {},
   "outputs": [
    {
     "name": "stdout",
     "output_type": "stream",
     "text": [
      "0.5647691776423982\n",
      "-0.9522331404870097\n",
      "None\n"
     ]
    }
   ],
   "source": [
    "print(MOLR.fit(x_train,y_train))"
   ]
  },
  {
   "cell_type": "code",
   "execution_count": 96,
   "id": "00b9587a-5881-46fe-a64b-15c7cea29b8a",
   "metadata": {},
   "outputs": [
    {
     "data": {
      "text/plain": [
       "8.58"
      ]
     },
     "execution_count": 96,
     "metadata": {},
     "output_type": "execute_result"
    }
   ],
   "source": [
    "x_test[0]"
   ]
  },
  {
   "cell_type": "code",
   "execution_count": 98,
   "id": "eb15cca6-a214-4200-a789-4c57bb961623",
   "metadata": {},
   "outputs": [
    {
     "name": "stdout",
     "output_type": "stream",
     "text": [
      "8.58\n"
     ]
    },
    {
     "data": {
      "text/plain": [
       "3.893486403684767"
      ]
     },
     "execution_count": 98,
     "metadata": {},
     "output_type": "execute_result"
    }
   ],
   "source": [
    "MOLR.predict(x_test[0])"
   ]
  },
  {
   "cell_type": "code",
   "execution_count": null,
   "id": "3848bfd3-6456-41bb-b76c-cea18be83e96",
   "metadata": {},
   "outputs": [],
   "source": []
  },
  {
   "cell_type": "code",
   "execution_count": null,
   "id": "7cf8e39a-acbe-4459-9b56-e4d3dce7bd7e",
   "metadata": {},
   "outputs": [],
   "source": []
  },
  {
   "cell_type": "code",
   "execution_count": null,
   "id": "0d09f314-a4e4-4a2b-9a9b-7a0bd8ecadca",
   "metadata": {},
   "outputs": [],
   "source": []
  },
  {
   "cell_type": "code",
   "execution_count": null,
   "id": "3e330ec0-b31a-4f04-8ee9-bfea66de6dde",
   "metadata": {},
   "outputs": [],
   "source": []
  }
 ],
 "metadata": {
  "kernelspec": {
   "display_name": "Python 3 (ipykernel)",
   "language": "python",
   "name": "python3"
  },
  "language_info": {
   "codemirror_mode": {
    "name": "ipython",
    "version": 3
   },
   "file_extension": ".py",
   "mimetype": "text/x-python",
   "name": "python",
   "nbconvert_exporter": "python",
   "pygments_lexer": "ipython3",
   "version": "3.11.7"
  }
 },
 "nbformat": 4,
 "nbformat_minor": 5
}
