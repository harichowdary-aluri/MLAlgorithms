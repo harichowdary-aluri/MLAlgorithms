{
 "cells": [
  {
   "cell_type": "code",
   "execution_count": 2,
   "id": "4c2ce9be-9ef0-4456-bc28-b447545785a3",
   "metadata": {},
   "outputs": [
    {
     "name": "stdout",
     "output_type": "stream",
     "text": [
      "[0 1 2 3 4 5 6 7 8 9]\n",
      "___________________________________________\n",
      "[[ 0  1  2  3]\n",
      " [ 4  5  6  7]\n",
      " [ 8  9 10 11]]\n",
      "___________________________________________\n",
      "[[[0 1]\n",
      "  [2 3]]\n",
      "\n",
      " [[4 5]\n",
      "  [6 7]]]\n"
     ]
    }
   ],
   "source": [
    "import numpy as np\n",
    "H=np.arange(10)\n",
    "A=np.arange(0,12).reshape(3,4)\n",
    "R=np.arange(8).reshape(2,2,2)\n",
    "print(H)\n",
    "print(\"___________________________________________\")\n",
    "print(A)\n",
    "print(\"___________________________________________\")\n",
    "print(R)"
   ]
  },
  {
   "cell_type": "code",
   "execution_count": 3,
   "id": "2c07989f-c31d-4f7f-8c2a-fce36d93f584",
   "metadata": {},
   "outputs": [
    {
     "data": {
      "text/plain": [
       "9"
      ]
     },
     "execution_count": 3,
     "metadata": {},
     "output_type": "execute_result"
    }
   ],
   "source": [
    "H[-1]"
   ]
  },
  {
   "cell_type": "code",
   "execution_count": 18,
   "id": "029eb7e8-833b-4b60-8457-cbcb7ff1d428",
   "metadata": {},
   "outputs": [
    {
     "name": "stdout",
     "output_type": "stream",
     "text": [
      "6\n",
      "[0 2 4 6]\n",
      "6\n",
      "5\n"
     ]
    }
   ],
   "source": [
    "print(A[1][2])\n",
    "print(H[0:7:2])\n",
    "print(A[1,2])\n",
    "print(R[1][0][1])"
   ]
  },
  {
   "cell_type": "code",
   "execution_count": 14,
   "id": "49512397-9099-4496-87a3-a1af3beb3065",
   "metadata": {},
   "outputs": [
    {
     "name": "stdout",
     "output_type": "stream",
     "text": [
      "[0 1 2 3]\n",
      "[ 2  6 10]\n",
      "[2 6]\n"
     ]
    }
   ],
   "source": [
    "#to print the particular row\n",
    "#to print the particular column\n",
    "print(A[0,:])\n",
    "print(A[:,2])\n",
    "print(A[0:2,2])"
   ]
  },
  {
   "cell_type": "code",
   "execution_count": 30,
   "id": "3367e3a1-4595-40ad-9929-7806d7b13b07",
   "metadata": {},
   "outputs": [
    {
     "name": "stdout",
     "output_type": "stream",
     "text": [
      "[[ 0  1  2  3]\n",
      " [ 4  5  6  7]\n",
      " [ 8  9 10 11]]\n",
      "-----------------------------------\n",
      "[[ 0  1  2  3]\n",
      " [ 8  9 10 11]]\n",
      "-----------------------------------\n",
      "[[ 0  3]\n",
      " [ 8 11]]\n",
      "-----------------------------------\n",
      "[[ 1  3]\n",
      " [ 9 11]]\n",
      "-----------------------------------\n",
      "[[4 7]]\n",
      "-----------------------------------\n",
      "[[1 2 3]\n",
      " [5 6 7]]\n"
     ]
    }
   ],
   "source": [
    "A=np.arange(0,12).reshape(3,4)\n",
    "print(A)\n",
    "print(\"-----------------------------------\")\n",
    "print(A[::2])\n",
    "print(\"-----------------------------------\")\n",
    "print(A[::2,::3])\n",
    "print(\"-----------------------------------\")\n",
    "print(A[::2,1::2])\n",
    "print(\"-----------------------------------\")\n",
    "print(A[1::2,0::3])\n",
    "print(\"-----------------------------------\")\n",
    "print(A[0:2,1:4])"
   ]
  },
  {
   "cell_type": "code",
   "execution_count": 33,
   "id": "4ffdbb38-df95-45c9-a4fd-faf4cb93f1be",
   "metadata": {},
   "outputs": [
    {
     "data": {
      "text/plain": [
       "array([[[ 0,  1,  2],\n",
       "        [ 3,  4,  5],\n",
       "        [ 6,  7,  8]],\n",
       "\n",
       "       [[ 9, 10, 11],\n",
       "        [12, 13, 14],\n",
       "        [15, 16, 17]],\n",
       "\n",
       "       [[18, 19, 20],\n",
       "        [21, 22, 23],\n",
       "        [24, 25, 26]]])"
      ]
     },
     "execution_count": 33,
     "metadata": {},
     "output_type": "execute_result"
    }
   ],
   "source": [
    "arr1=np.arange(27).reshape(3,3,3)\n",
    "arr1"
   ]
  },
  {
   "cell_type": "code",
   "execution_count": 40,
   "id": "ec63ca06-b281-40d1-8112-957827b25b7c",
   "metadata": {},
   "outputs": [
    {
     "name": "stdout",
     "output_type": "stream",
     "text": [
      "[[0 1 2]\n",
      " [3 4 5]\n",
      " [6 7 8]]\n",
      "[[ 9 10 11]\n",
      " [12 13 14]\n",
      " [15 16 17]]\n",
      "[[18 19 20]\n",
      " [21 22 23]\n",
      " [24 25 26]]\n",
      "0 1 2 3 4 5 6 7 8 9 10 11 12 13 14 15 16 17 18 19 20 21 22 23 24 25 26 "
     ]
    }
   ],
   "source": [
    "for i in arr1:\n",
    "    print(i)\n",
    "#to iterate each and evry element in the array we use nditer\n",
    "#nditer is a function which converts any dimensional array into single dimension\n",
    "for i in  np.nditer(arr1):\n",
    "    print(i,end=' ')\n",
    "    \n"
   ]
  },
  {
   "cell_type": "code",
   "execution_count": 39,
   "id": "559faee7-64a8-494a-9e5e-0dc4fbe08a00",
   "metadata": {},
   "outputs": [
    {
     "name": "stdout",
     "output_type": "stream",
     "text": [
      "[[ 0  1  2  3]\n",
      " [ 4  5  6  7]\n",
      " [ 8  9 10 11]]\n",
      "[[ 0  4  8]\n",
      " [ 1  5  9]\n",
      " [ 2  6 10]\n",
      " [ 3  7 11]]\n",
      "[[ 0  4  8]\n",
      " [ 1  5  9]\n",
      " [ 2  6 10]\n",
      " [ 3  7 11]]\n"
     ]
    }
   ],
   "source": [
    "#transpose converts 3X4=4X3\n",
    "A=np.arange(0,12).reshape(3,4)\n",
    "print(A)\n",
    "print(np.transpose(A))\n",
    "print(A.T)"
   ]
  },
  {
   "cell_type": "code",
   "execution_count": 44,
   "id": "c5f01783-4686-46ce-86da-60860c98c4e6",
   "metadata": {},
   "outputs": [
    {
     "name": "stdout",
     "output_type": "stream",
     "text": [
      "[[ 0  1  2  3 12 13 14 15]\n",
      " [ 4  5  6  7 16 17 18 19]\n",
      " [ 8  9 10 11 20 21 22 23]]\n",
      "___________________________________________\n",
      "[[ 0  1  2  3 12 13 14 15 12 13 14 15]\n",
      " [ 4  5  6  7 16 17 18 19 16 17 18 19]\n",
      " [ 8  9 10 11 20 21 22 23 20 21 22 23]]\n",
      "___________________________________________\n",
      "[[12 13 14 15  0  1  2  3 12 13 14 15 12 13 14 15]\n",
      " [16 17 18 19  4  5  6  7 16 17 18 19 16 17 18 19]\n",
      " [20 21 22 23  8  9 10 11 20 21 22 23 20 21 22 23]]\n",
      "___________________________________________\n"
     ]
    }
   ],
   "source": [
    "#horizantal Stacking\n",
    "#for stakc the shape should be same \n",
    "a4=np.arange(12).reshape(3,4)\n",
    "a5=np.arange(12,24).reshape(3,4)\n",
    "print(np.hstack((a4,a5)))\n",
    "print(\"___________________________________________\")\n",
    "print(np.hstack((a4,a5,a5)))\n",
    "print(\"___________________________________________\")\n",
    "print(np.hstack((a5,a4,a5,a5)))\n",
    "print(\"___________________________________________\")\n"
   ]
  },
  {
   "cell_type": "code",
   "execution_count": 45,
   "id": "707810eb-442d-4c43-aad5-d17acdd17115",
   "metadata": {},
   "outputs": [
    {
     "name": "stdout",
     "output_type": "stream",
     "text": [
      "[[ 0  1  2  3]\n",
      " [ 4  5  6  7]\n",
      " [ 8  9 10 11]\n",
      " [12 13 14 15]\n",
      " [16 17 18 19]\n",
      " [20 21 22 23]]\n",
      "___________________________________________\n",
      "[[ 0  1  2  3]\n",
      " [ 4  5  6  7]\n",
      " [ 8  9 10 11]\n",
      " [12 13 14 15]\n",
      " [16 17 18 19]\n",
      " [20 21 22 23]\n",
      " [12 13 14 15]\n",
      " [16 17 18 19]\n",
      " [20 21 22 23]]\n",
      "___________________________________________\n",
      "[[[12 13 14 15]\n",
      "  [16 17 18 19]\n",
      "  [20 21 22 23]]\n",
      "\n",
      " [[ 0  1  2  3]\n",
      "  [ 4  5  6  7]\n",
      "  [ 8  9 10 11]]\n",
      "\n",
      " [[12 13 14 15]\n",
      "  [16 17 18 19]\n",
      "  [20 21 22 23]]\n",
      "\n",
      " [[12 13 14 15]\n",
      "  [16 17 18 19]\n",
      "  [20 21 22 23]]]\n",
      "___________________________________________\n"
     ]
    }
   ],
   "source": [
    "#vertical Stacking\n",
    "print(np.vstack((a4,a5)))\n",
    "print(\"___________________________________________\")\n",
    "print(np.vstack((a4,a5,a5)))\n",
    "print(\"___________________________________________\")\n",
    "print(np.stack((a5,a4,a5,a5)))\n",
    "print(\"___________________________________________\")"
   ]
  },
  {
   "cell_type": "code",
   "execution_count": 48,
   "id": "31a1426c-f6db-4cbc-8b4e-a0f064917c73",
   "metadata": {},
   "outputs": [
    {
     "data": {
      "text/plain": [
       "[array([[0, 1],\n",
       "        [4, 5],\n",
       "        [8, 9]]),\n",
       " array([[ 2,  3],\n",
       "        [ 6,  7],\n",
       "        [10, 11]])]"
      ]
     },
     "execution_count": 48,
     "metadata": {},
     "output_type": "execute_result"
    }
   ],
   "source": [
    "#horizantal Splitting\n",
    "np.hsplit(a4,2)"
   ]
  },
  {
   "cell_type": "code",
   "execution_count": 49,
   "id": "f813384a-0875-4f6e-87a1-61337a82ad1e",
   "metadata": {},
   "outputs": [],
   "source": [
    "#vertical Splitting\n",
    "np.vsplit(a4,2)   #we can't split it,it will throw an error"
   ]
  },
  {
   "cell_type": "code",
   "execution_count": null,
   "id": "c2dc9f4e-c5f3-472e-9983-ed442031fb33",
   "metadata": {},
   "outputs": [],
   "source": []
  }
 ],
 "metadata": {
  "kernelspec": {
   "display_name": "Python 3 (ipykernel)",
   "language": "python",
   "name": "python3"
  },
  "language_info": {
   "codemirror_mode": {
    "name": "ipython",
    "version": 3
   },
   "file_extension": ".py",
   "mimetype": "text/x-python",
   "name": "python",
   "nbconvert_exporter": "python",
   "pygments_lexer": "ipython3",
   "version": "3.11.7"
  }
 },
 "nbformat": 4,
 "nbformat_minor": 5
}
