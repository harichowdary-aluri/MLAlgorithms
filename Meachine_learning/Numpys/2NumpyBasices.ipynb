{
 "cells": [
  {
   "cell_type": "code",
   "execution_count": 43,
   "id": "e25ecca5-2d9e-4cb1-b24d-2fdab844a87d",
   "metadata": {},
   "outputs": [],
   "source": [
    "import numpy as np\n"
   ]
  },
  {
   "cell_type": "code",
   "execution_count": 25,
   "id": "4a2088ef-fcfe-4961-94a0-006e23fde54a",
   "metadata": {},
   "outputs": [
    {
     "data": {
      "text/plain": [
       "array([[ 1,  2],\n",
       "       [ 3,  4],\n",
       "       [ 5,  6],\n",
       "       [ 7,  8],\n",
       "       [ 9, 10],\n",
       "       [11, 12]])"
      ]
     },
     "execution_count": 25,
     "metadata": {},
     "output_type": "execute_result"
    }
   ],
   "source": [
    "#reshape\n",
    "np.arange(1,13).reshape(6,2)"
   ]
  },
  {
   "cell_type": "code",
   "execution_count": 37,
   "id": "8f4f7d88-07a8-445e-adbb-90d1d10e608f",
   "metadata": {},
   "outputs": [
    {
     "data": {
      "text/plain": [
       "array([['1', '1', '1', '1'],\n",
       "       ['1', '1', '1', '1'],\n",
       "       ['1', '1', '1', '1']], dtype='<U1')"
      ]
     },
     "execution_count": 37,
     "metadata": {},
     "output_type": "execute_result"
    }
   ],
   "source": [
    "\n",
    "np.ones((3,4),dtype=str)"
   ]
  },
  {
   "cell_type": "code",
   "execution_count": 32,
   "id": "38872b2f-a4de-494f-9943-d7d681dc4582",
   "metadata": {},
   "outputs": [
    {
     "data": {
      "text/plain": [
       "array([[0.46481122, 0.48900258, 0.49643511, 0.51443427],\n",
       "       [0.86199939, 0.74278963, 0.17041509, 0.80199396],\n",
       "       [0.53538914, 0.444298  , 0.85786973, 0.79333139]])"
      ]
     },
     "execution_count": 32,
     "metadata": {},
     "output_type": "execute_result"
    }
   ],
   "source": [
    "#use of random \n",
    "#it will generate the random values in the array in between o to 1\n",
    "arr2=np.random.random((3,4))\n",
    "arr2"
   ]
  },
  {
   "cell_type": "code",
   "execution_count": 40,
   "id": "feeeed2d-35f3-4626-b95c-fcec7dae76bb",
   "metadata": {},
   "outputs": [
    {
     "data": {
      "text/plain": [
       "array([-10.        ,  -7.77777778,  -5.55555556,  -3.33333333,\n",
       "        -1.11111111,   1.11111111,   3.33333333,   5.55555556,\n",
       "         7.77777778,  10.        ])"
      ]
     },
     "execution_count": 40,
     "metadata": {},
     "output_type": "execute_result"
    }
   ],
   "source": [
    "#np.linspace (linear space)  \n",
    "#it will create an array of list of elements in the given range from -10 to 10 \n",
    "#where we have to generate 10 elemnts with equal disctance between th value ()\n",
    "np.linspace(-10,10,10) #dtype=int"
   ]
  },
  {
   "cell_type": "code",
   "execution_count": 35,
   "id": "0eced38c-8954-4287-b24e-7796d1df8d68",
   "metadata": {},
   "outputs": [
    {
     "data": {
      "text/plain": [
       "array([[1., 0., 0., 0.],\n",
       "       [0., 1., 0., 0.],\n",
       "       [0., 0., 1., 0.],\n",
       "       [0., 0., 0., 1.]])"
      ]
     },
     "execution_count": 35,
     "metadata": {},
     "output_type": "execute_result"
    }
   ],
   "source": [
    "#indentity matrix is where diagonal elements are 1 rest of the elements are 0\n",
    "np.identity(4)"
   ]
  },
  {
   "cell_type": "code",
   "execution_count": 44,
   "id": "907b464f-c311-4cd8-8ace-7917fa0c2364",
   "metadata": {},
   "outputs": [
    {
     "data": {
      "text/plain": [
       "array([[[[ 0,  1],\n",
       "         [ 2,  3]],\n",
       "\n",
       "        [[ 4,  5],\n",
       "         [ 6,  7]]],\n",
       "\n",
       "\n",
       "       [[[ 8,  9],\n",
       "         [10, 11]],\n",
       "\n",
       "        [[12, 13],\n",
       "         [14, 15]]]])"
      ]
     },
     "execution_count": 44,
     "metadata": {},
     "output_type": "execute_result"
    }
   ],
   "source": [
    "np.arange(16).reshape(2,2,2,2)  #2*2*2*2"
   ]
  },
  {
   "cell_type": "code",
   "execution_count": null,
   "id": "8f724571-a77f-472d-a647-ea99bdc22b5e",
   "metadata": {},
   "outputs": [],
   "source": []
  }
 ],
 "metadata": {
  "kernelspec": {
   "display_name": "Python 3 (ipykernel)",
   "language": "python",
   "name": "python3"
  },
  "language_info": {
   "codemirror_mode": {
    "name": "ipython",
    "version": 3
   },
   "file_extension": ".py",
   "mimetype": "text/x-python",
   "name": "python",
   "nbconvert_exporter": "python",
   "pygments_lexer": "ipython3",
   "version": "3.11.7"
  }
 },
 "nbformat": 4,
 "nbformat_minor": 5
}
