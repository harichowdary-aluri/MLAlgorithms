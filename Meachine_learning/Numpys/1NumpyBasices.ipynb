{
 "cells": [
  {
   "cell_type": "code",
   "execution_count": 3,
   "id": "dc9d0f44-e94d-4954-85bd-cdb8e3dc7603",
   "metadata": {},
   "outputs": [
    {
     "data": {
      "text/plain": [
       "array([1, 2, 3, 4])"
      ]
     },
     "execution_count": 3,
     "metadata": {},
     "output_type": "execute_result"
    }
   ],
   "source": [
    "import numpy as np\n",
    "arr=np.array([1,2,3,4])\n",
    "arr"
   ]
  },
  {
   "cell_type": "code",
   "execution_count": 2,
   "id": "2174eab9-5c43-4c88-a09b-1e0c81c864e7",
   "metadata": {},
   "outputs": [
    {
     "name": "stdout",
     "output_type": "stream",
     "text": [
      "<class 'numpy.ndarray'>\n"
     ]
    }
   ],
   "source": [
    "print(type(arr))"
   ]
  },
  {
   "cell_type": "code",
   "execution_count": 5,
   "id": "c3b1711d-5fbe-4002-a7ee-8a733c0cbc48",
   "metadata": {},
   "outputs": [
    {
     "data": {
      "text/plain": [
       "array([[3],\n",
       "       [4],\n",
       "       [5]])"
      ]
     },
     "execution_count": 5,
     "metadata": {},
     "output_type": "execute_result"
    }
   ],
   "source": [
    "arr1=np.array([[3],[4],[5]])\n",
    "arr1"
   ]
  },
  {
   "cell_type": "code",
   "execution_count": 7,
   "id": "151fbe20-2032-41bd-b19c-a66edd55d3e5",
   "metadata": {},
   "outputs": [
    {
     "name": "stdout",
     "output_type": "stream",
     "text": [
      "[[0 0 0 0]\n",
      " [0 0 0 0]\n",
      " [0 0 0 0]]\n"
     ]
    }
   ],
   "source": [
    "arr2=np.zeros((3,4),dtype=int)\n",
    "print(arr2)"
   ]
  },
  {
   "cell_type": "code",
   "execution_count": 6,
   "id": "fce89b17-524f-485f-9084-54d328d780bd",
   "metadata": {},
   "outputs": [
    {
     "data": {
      "text/plain": [
       "array([[1., 1., 1., 1.],\n",
       "       [1., 1., 1., 1.],\n",
       "       [1., 1., 1., 1.]])"
      ]
     },
     "execution_count": 6,
     "metadata": {},
     "output_type": "execute_result"
    }
   ],
   "source": [
    "arr3=np.ones((3,4))\n",
    "arr3"
   ]
  },
  {
   "cell_type": "code",
   "execution_count": 4,
   "id": "758eea50-89ca-4dbf-991a-eeb417c455e0",
   "metadata": {},
   "outputs": [
    {
     "data": {
      "text/plain": [
       "array([0, 2, 4, 6, 8])"
      ]
     },
     "execution_count": 4,
     "metadata": {},
     "output_type": "execute_result"
    }
   ],
   "source": [
    "#creating an array with range of values\n",
    "arr4=np.arange(0,10,2)\n",
    "arr4"
   ]
  },
  {
   "cell_type": "code",
   "execution_count": 5,
   "id": "7bd1194a-8199-48cf-959a-e9b2c6fdda0e",
   "metadata": {},
   "outputs": [
    {
     "name": "stdout",
     "output_type": "stream",
     "text": [
      "6\n"
     ]
    }
   ],
   "source": [
    "print(arr4[3])"
   ]
  },
  {
   "cell_type": "code",
   "execution_count": 6,
   "id": "c5793ccb-bd11-4a7b-b6bb-8270abb09aaa",
   "metadata": {},
   "outputs": [
    {
     "name": "stdout",
     "output_type": "stream",
     "text": [
      "[2 4 6]\n"
     ]
    }
   ],
   "source": [
    "print(arr4[1:4])"
   ]
  },
  {
   "cell_type": "code",
   "execution_count": 8,
   "id": "ded95d71-5c46-4a00-a858-49509b0bb234",
   "metadata": {},
   "outputs": [
    {
     "data": {
      "text/plain": [
       "array([ 0,  2,  4, 10,  8])"
      ]
     },
     "execution_count": 8,
     "metadata": {},
     "output_type": "execute_result"
    }
   ],
   "source": [
    "#modify the values in the array\n",
    "arr4[3]=10\n",
    "arr4"
   ]
  },
  {
   "cell_type": "code",
   "execution_count": 11,
   "id": "ebb71552-d558-4632-a65a-c38b91b1e407",
   "metadata": {},
   "outputs": [
    {
     "name": "stdout",
     "output_type": "stream",
     "text": [
      "0\n",
      "10\n",
      "24\n",
      "4.8\n"
     ]
    }
   ],
   "source": [
    "print(arr4.min())\n",
    "print(arr4.max())\n",
    "print(arr4.sum())\n",
    "print(arr4.mean())"
   ]
  },
  {
   "cell_type": "code",
   "execution_count": null,
   "id": "53235c06-f337-4b26-8c63-13cbc5002ece",
   "metadata": {},
   "outputs": [],
   "source": [
    "#how to use pI value \n",
    "arr5=np.array([0,np.pi/2,np.pi])\n",
    "print(np.sin(arr5))\n",
    "print(np.cos(arr5))\n",
    "print(np.log(arr5)) #logerthemic\n",
    "print(np.exp(arr5)) #Exponent"
   ]
  },
  {
   "cell_type": "code",
   "execution_count": 4,
   "id": "bd5ea8a4-2458-4e61-bcaa-274b9f16dc53",
   "metadata": {},
   "outputs": [
    {
     "data": {
      "text/plain": [
       "array([1.+0.j, 2.+0.j, 3.+0.j, 4.+0.j])"
      ]
     },
     "execution_count": 4,
     "metadata": {},
     "output_type": "execute_result"
    }
   ],
   "source": [
    "#we can pass the data type of our wish\n",
    "i=np.array([1,2,3,4],dtype=complex)\n",
    "i"
   ]
  },
  {
   "cell_type": "code",
   "execution_count": 10,
   "id": "28523098-61db-49dd-ae84-57db9ef6aa85",
   "metadata": {},
   "outputs": [
    {
     "data": {
      "text/plain": [
       "array(['1', '2', '3', '4'], dtype='<U1')"
      ]
     },
     "execution_count": 10,
     "metadata": {},
     "output_type": "execute_result"
    }
   ],
   "source": [
    "np.array([1,2,3,4],dtype=str)"
   ]
  },
  {
   "cell_type": "code",
   "execution_count": 16,
   "id": "5edfe34d-990d-4430-a667-3d055608cbc1",
   "metadata": {},
   "outputs": [
    {
     "name": "stdout",
     "output_type": "stream",
     "text": [
      "[[76. 10.  4.]\n",
      " [38. 65.  9.]\n",
      " [71.  6. 84.]]\n",
      "[76. 65. 84.]\n",
      "[ 3040. 22230. 35784.]\n"
     ]
    }
   ],
   "source": [
    "a1=np.random.random((3,3))\n",
    "a1=np.round(a1*100)\n",
    "print(a1)\n",
    "print(np.max(a1,axis=1))\n",
    "print(np.prod(a1,axis=1))\n"
   ]
  },
  {
   "cell_type": "code",
   "execution_count": 24,
   "id": "057c3594-3d5f-4747-b9d0-29e4563a9acf",
   "metadata": {},
   "outputs": [
    {
     "data": {
      "text/plain": [
       "array([1064.        ,  522.88888889, 1164.22222222])"
      ]
     },
     "execution_count": 24,
     "metadata": {},
     "output_type": "execute_result"
    }
   ],
   "source": [
    "#mean/median/std/var\n",
    "np.mean(a1,axis=1)\n",
    "np.median(a1,axis=1)\n",
    "np.std(a1,axis=1)\n",
    "np.var(a1,axis=1)"
   ]
  },
  {
   "cell_type": "code",
   "execution_count": 37,
   "id": "4f19e048-eb14-4a3e-97f5-3ec2df8bc1a2",
   "metadata": {},
   "outputs": [],
   "source": [
    "#dot functions 3X4 4X3=3X3\n",
    "#in the above calculations 4 and 4 should be same\n",
    "np.dot(a1,arr2)"
   ]
  },
  {
   "cell_type": "code",
   "execution_count": 36,
   "id": "5056c0aa-411e-4653-b7a7-93396e71d420",
   "metadata": {},
   "outputs": [
    {
     "name": "stdout",
     "output_type": "stream",
     "text": [
      "[[75. 66. 60.  6.]\n",
      " [13. 67. 92. 57.]\n",
      " [15. 13.  4. 94.]]\n",
      "[[18. 64. 29. 92.]\n",
      " [93. 75. 42. 55.]\n",
      " [67.  4. 13. 89.]]\n"
     ]
    }
   ],
   "source": [
    "#round /floor/ceil\n",
    "print(np.ceil(np.random.random((3,4))*100))\n",
    "print(np.round(np.random.random((3,4))*100))"
   ]
  },
  {
   "cell_type": "code",
   "execution_count": null,
   "id": "bae6274b-b45a-4533-9793-257d8fdf2a74",
   "metadata": {},
   "outputs": [],
   "source": []
  },
  {
   "cell_type": "code",
   "execution_count": null,
   "id": "fe921bd2-5f7a-451e-8697-ffc009639e82",
   "metadata": {},
   "outputs": [],
   "source": []
  },
  {
   "cell_type": "code",
   "execution_count": null,
   "id": "454223db-03df-47d9-9617-c4b636801cc0",
   "metadata": {},
   "outputs": [],
   "source": []
  },
  {
   "cell_type": "code",
   "execution_count": null,
   "id": "98604847-9055-4d99-bcd9-04269cbf753d",
   "metadata": {},
   "outputs": [],
   "source": []
  },
  {
   "cell_type": "code",
   "execution_count": null,
   "id": "70b938c3-da12-4b82-82dd-b718ce192ae1",
   "metadata": {},
   "outputs": [],
   "source": []
  },
  {
   "cell_type": "code",
   "execution_count": null,
   "id": "d55d1f85-8cff-4de2-b77c-688ad90c3a12",
   "metadata": {},
   "outputs": [],
   "source": []
  }
 ],
 "metadata": {
  "kernelspec": {
   "display_name": "Python 3 (ipykernel)",
   "language": "python",
   "name": "python3"
  },
  "language_info": {
   "codemirror_mode": {
    "name": "ipython",
    "version": 3
   },
   "file_extension": ".py",
   "mimetype": "text/x-python",
   "name": "python",
   "nbconvert_exporter": "python",
   "pygments_lexer": "ipython3",
   "version": "3.11.7"
  }
 },
 "nbformat": 4,
 "nbformat_minor": 5
}
