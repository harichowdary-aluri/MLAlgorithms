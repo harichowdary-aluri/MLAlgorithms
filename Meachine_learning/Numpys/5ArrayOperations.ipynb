{
 "cells": [
  {
   "cell_type": "code",
   "execution_count": 1,
   "id": "d5cd7d93-3724-4a16-bd89-ce8e03d50bf5",
   "metadata": {},
   "outputs": [],
   "source": [
    "import numpy as  np\n",
    "a1=np.arange(12).reshape(3,4)\n",
    "a2=np.arange(12,24).reshape(3,4)"
   ]
  },
  {
   "cell_type": "code",
   "execution_count": 10,
   "id": "dc3d1221-465d-4bbd-8034-c33cfd709ce2",
   "metadata": {},
   "outputs": [
    {
     "name": "stdout",
     "output_type": "stream",
     "text": [
      "[[ 0  2  4  6]\n",
      " [ 8 10 12 14]\n",
      " [16 18 20 22]]\n",
      ":--------------------------------------\n",
      "[[15 16 17 18]\n",
      " [19 20 21 22]\n",
      " [23 24 25 26]]\n",
      ":--------------------------------------\n",
      "[[ 1728  2197  2744  3375]\n",
      " [ 4096  4913  5832  6859]\n",
      " [ 8000  9261 10648 12167]]\n"
     ]
    }
   ],
   "source": [
    "#arthemetic operation\n",
    "print(a1*2)\n",
    "print(\":--------------------------------------\")\n",
    "print(a2+3)\n",
    "print(\":--------------------------------------\")\n",
    "print(a2**3)\n",
    "print(\":--------------------------------------\")"
   ]
  },
  {
   "cell_type": "code",
   "execution_count": 11,
   "id": "77553933-32fb-4e5f-a321-202193b3fd4c",
   "metadata": {},
   "outputs": [
    {
     "name": "stdout",
     "output_type": "stream",
     "text": [
      "[[False False False  True]\n",
      " [ True  True  True  True]\n",
      " [ True  True  True  True]]\n",
      ":--------------------------------------\n",
      "[[False False False False]\n",
      " [False False False False]\n",
      " [False False False False]]\n",
      ":--------------------------------------\n",
      "[[False False False False]\n",
      " [False False False False]\n",
      " [False False False False]]\n"
     ]
    }
   ],
   "source": [
    "#Relational operation\n",
    "print(a1>2)\n",
    "print(\":--------------------------------------\")\n",
    "print(a2<3)\n",
    "print(\":--------------------------------------\")\n",
    "print(a2==3)"
   ]
  },
  {
   "cell_type": "code",
   "execution_count": 12,
   "id": "4cde34cd-cb44-4f81-a200-896d70ba413a",
   "metadata": {},
   "outputs": [
    {
     "name": "stdout",
     "output_type": "stream",
     "text": [
      "[[                   0                    1                16384\n",
      "              14348907]\n",
      " [          4294967296         762939453125      101559956668416\n",
      "     11398895185373143]\n",
      " [ 1152921504606846976 -1261475310744950487  1864712049423024128\n",
      "   6839173302027254275]]\n",
      ":--------------------------------------\n",
      "[[0.         0.07692308 0.14285714 0.2       ]\n",
      " [0.25       0.29411765 0.33333333 0.36842105]\n",
      " [0.4        0.42857143 0.45454545 0.47826087]]\n",
      ":--------------------------------------\n",
      "[[12 12 12 12]\n",
      " [12 12 12 12]\n",
      " [12 12 12 12]]\n"
     ]
    }
   ],
   "source": [
    "#vectore operations\n",
    "#for performing vector operations we make sure that the two vectors are same in size\n",
    "print(a1**a2)\n",
    "print(\":--------------------------------------\")\n",
    "print(a1/a2)\n",
    "print(\":--------------------------------------\")\n",
    "print(a2-a1)"
   ]
  },
  {
   "cell_type": "code",
   "execution_count": null,
   "id": "eddca9b4-ceb8-4e1a-9023-de3eeafada1b",
   "metadata": {},
   "outputs": [],
   "source": []
  }
 ],
 "metadata": {
  "kernelspec": {
   "display_name": "Python 3 (ipykernel)",
   "language": "python",
   "name": "python3"
  },
  "language_info": {
   "codemirror_mode": {
    "name": "ipython",
    "version": 3
   },
   "file_extension": ".py",
   "mimetype": "text/x-python",
   "name": "python",
   "nbconvert_exporter": "python",
   "pygments_lexer": "ipython3",
   "version": "3.11.7"
  }
 },
 "nbformat": 4,
 "nbformat_minor": 5
}
