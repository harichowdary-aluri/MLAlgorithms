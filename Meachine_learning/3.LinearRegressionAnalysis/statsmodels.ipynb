{
 "cells": [
  {
   "cell_type": "raw",
   "id": "264e8e49-e697-493a-af72-981c21094ac1",
   "metadata": {},
   "source": [
    "TV  Radio  Newspaper\n",
    "100   20       5\n",
    "200   30      10\n",
    "\n",
    "sm.add_constant(X) e line  use chestha data ila avuthunhdi\n",
    "\n",
    "const  TV  Radio  Newspaper\n",
    "  1   100   20       5\n",
    "  1   200   30      10"
   ]
  },
  {
   "cell_type": "code",
   "execution_count": 3,
   "id": "a58850f0-9b8d-4b87-b467-104eaa08ed12",
   "metadata": {
    "scrolled": true
   },
   "outputs": [
    {
     "name": "stdout",
     "output_type": "stream",
     "text": [
      "                            OLS Regression Results                            \n",
      "==============================================================================\n",
      "Dep. Variable:                  Sales   R-squared:                       0.897\n",
      "Model:                            OLS   Adj. R-squared:                  0.896\n",
      "Method:                 Least Squares   F-statistic:                     570.3\n",
      "Date:                Thu, 28 Mar 2024   Prob (F-statistic):           1.58e-96\n",
      "Time:                        19:38:59   Log-Likelihood:                -386.18\n",
      "No. Observations:                 200   AIC:                             780.4\n",
      "Df Residuals:                     196   BIC:                             793.6\n",
      "Df Model:                           3                                         \n",
      "Covariance Type:            nonrobust                                         \n",
      "==============================================================================\n",
      "                 coef    std err          t      P>|t|      [0.025      0.975]\n",
      "------------------------------------------------------------------------------\n",
      "const          2.9389      0.312      9.422      0.000       2.324       3.554\n",
      "TV             0.0458      0.001     32.809      0.000       0.043       0.049\n",
      "Radio          0.1885      0.009     21.893      0.000       0.172       0.206\n",
      "Newspaper     -0.0010      0.006     -0.177      0.860      -0.013       0.011\n",
      "==============================================================================\n",
      "Omnibus:                       60.414   Durbin-Watson:                   2.084\n",
      "Prob(Omnibus):                  0.000   Jarque-Bera (JB):              151.241\n",
      "Skew:                          -1.327   Prob(JB):                     1.44e-33\n",
      "Kurtosis:                       6.332   Cond. No.                         454.\n",
      "==============================================================================\n",
      "\n",
      "Notes:\n",
      "[1] Standard Errors assume that the covariance matrix of the errors is correctly specified.\n"
     ]
    }
   ],
   "source": [
    "import pandas as pd\n",
    "import statsmodels.api as sm\n",
    "\n",
    "# Load the dataset\n",
    "url = \"https://raw.githubusercontent.com/justmarkham/scikit-learn-videos/master/data/Advertising.csv\"\n",
    "data = pd.read_csv(url, index_col=0)\n",
    "\n",
    "# data lo motham ani vacchesai ippudu regression chayyali antey X & Y kavali X antey ['TV', 'Radio', 'Newspaper'] so x lo peduthunnam \n",
    "X = data[['TV', 'Radio', 'Newspaper']]\n",
    "X = sm.add_constant(X)\n",
    "\n",
    "# Define the dependent variable\n",
    "y = data['Sales']\n",
    "\n",
    "# Fit the model using the independent and dependent variables\n",
    "model = sm.OLS(y, X).fit()\n",
    "\n",
    "# Print the summary of the model\n",
    "print(model.summary())"
   ]
  },
  {
   "cell_type": "code",
   "execution_count": 4,
   "id": "477c8a58-7be6-402e-952a-0643d1ef9069",
   "metadata": {},
   "outputs": [
    {
     "name": "stdout",
     "output_type": "stream",
     "text": [
      "                            OLS Regression Results                            \n",
      "==============================================================================\n",
      "Dep. Variable:                      y   R-squared:                       0.530\n",
      "Model:                            OLS   Adj. R-squared:                  0.373\n",
      "Method:                 Least Squares   F-statistic:                     3.380\n",
      "Date:                Thu, 28 Mar 2024   Prob (F-statistic):              0.163\n",
      "Time:                        19:50:02   Log-Likelihood:                -5.9769\n",
      "No. Observations:                   5   AIC:                             15.95\n",
      "Df Residuals:                       3   BIC:                             15.17\n",
      "Df Model:                           1                                         \n",
      "Covariance Type:            nonrobust                                         \n",
      "==============================================================================\n",
      "                 coef    std err          t      P>|t|      [0.025      0.975]\n",
      "------------------------------------------------------------------------------\n",
      "const          1.6579      1.253      1.323      0.278      -2.331       5.646\n",
      "X              0.4868      0.265      1.839      0.163      -0.356       1.330\n",
      "==============================================================================\n",
      "Omnibus:                          nan   Durbin-Watson:                   3.482\n",
      "Prob(Omnibus):                    nan   Jarque-Bera (JB):                0.534\n",
      "Skew:                          -0.047   Prob(JB):                        0.766\n",
      "Kurtosis:                       1.401   Cond. No.                         13.3\n",
      "==============================================================================\n",
      "\n",
      "Notes:\n",
      "[1] Standard Errors assume that the covariance matrix of the errors is correctly specified.\n"
     ]
    },
    {
     "name": "stderr",
     "output_type": "stream",
     "text": [
      "/opt/anaconda3/lib/python3.11/site-packages/statsmodels/stats/stattools.py:74: ValueWarning: omni_normtest is not valid with less than 8 observations; 5 samples were given.\n",
      "  warn(\"omni_normtest is not valid with less than 8 observations; %i \"\n"
     ]
    }
   ],
   "source": [
    "import statsmodels.api as sm\n",
    "import pandas as pd\n",
    "\n",
    "\n",
    "\n",
    "df = pd.DataFrame()\n",
    "\n",
    "df['X'] = [2,3,5,5,7]\n",
    "df['y'] = [2,4,3,5,5]\n",
    "# Add a constant to the independent variable\n",
    "X = sm.add_constant(df['X'])\n",
    "\n",
    "# Fit the linear regression model\n",
    "model = sm.OLS(df['y'], X).fit()\n",
    "\n",
    "# Print the summary of the model\n",
    "print(model.summary())"
   ]
  },
  {
   "cell_type": "code",
   "execution_count": null,
   "id": "7e210380-e1d8-4343-8d58-dc662684539c",
   "metadata": {},
   "outputs": [],
   "source": []
  }
 ],
 "metadata": {
  "kernelspec": {
   "display_name": "Python 3 (ipykernel)",
   "language": "python",
   "name": "python3"
  },
  "language_info": {
   "codemirror_mode": {
    "name": "ipython",
    "version": 3
   },
   "file_extension": ".py",
   "mimetype": "text/x-python",
   "name": "python",
   "nbconvert_exporter": "python",
   "pygments_lexer": "ipython3",
   "version": "3.11.7"
  }
 },
 "nbformat": 4,
 "nbformat_minor": 5
}
