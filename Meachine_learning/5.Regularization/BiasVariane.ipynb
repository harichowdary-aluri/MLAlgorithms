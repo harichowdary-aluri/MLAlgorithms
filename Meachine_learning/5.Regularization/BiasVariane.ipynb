{
 "cells": [
  {
   "cell_type": "markdown",
   "id": "39c438b8-b0ef-43df-9cac-a70ae4263772",
   "metadata": {},
   "source": [
    "loss=(bias)^2+var+_ireducable error\n",
    "loss vasthey danni ila breakdown chayyagalam kani \n",
    "bias + var + irreducable error kanukoni loss function thalemu"
   ]
  },
  {
   "cell_type": "code",
   "execution_count": 13,
   "id": "c512c827-c8ac-4bbf-bcfd-e3e49fde238d",
   "metadata": {},
   "outputs": [],
   "source": [
    "from mlxtend.evaluate import bias_variance_decomp\n",
    "from sklearn.linear_model import LinearRegression\n",
    "from sklearn.tree import DecisionTreeRegressor\n",
    "from sklearn.model_selection import train_test_split\n",
    "from mlxtend.data import boston_housing_data"
   ]
  },
  {
   "cell_type": "raw",
   "id": "cb377e41-4026-4c01-b69c-22f721e84f17",
   "metadata": {},
   "source": [
    "pip install mlxtend --upgrade"
   ]
  },
  {
   "cell_type": "code",
   "execution_count": 28,
   "id": "fdf64fa6-472d-4a06-9557-749b59cbf075",
   "metadata": {},
   "outputs": [],
   "source": [
    "x,y=boston_housing_data()"
   ]
  },
  {
   "cell_type": "code",
   "execution_count": 29,
   "id": "f1573cf2-18f3-4259-95bf-182bc10eee08",
   "metadata": {},
   "outputs": [
    {
     "data": {
      "text/plain": [
       "(506, 13)"
      ]
     },
     "execution_count": 29,
     "metadata": {},
     "output_type": "execute_result"
    }
   ],
   "source": [
    "x.shape"
   ]
  },
  {
   "cell_type": "code",
   "execution_count": 30,
   "id": "f3f52c57-da47-4eb0-bfb3-b45c757bc711",
   "metadata": {},
   "outputs": [
    {
     "data": {
      "text/plain": [
       "(506,)"
      ]
     },
     "execution_count": 30,
     "metadata": {},
     "output_type": "execute_result"
    }
   ],
   "source": [
    "y.shape"
   ]
  },
  {
   "cell_type": "code",
   "execution_count": 31,
   "id": "edbf91ee-21fb-4715-b1e5-6613a449e9bf",
   "metadata": {},
   "outputs": [],
   "source": [
    "#Setting shuffle=True ensures that the data is randomly shuffled before splitting it into training and testing sets.\n",
    "\n",
    "x_train,x_test,y_train,y_test=train_test_split(x,y,random_state=123,shuffle=True)"
   ]
  },
  {
   "cell_type": "code",
   "execution_count": 32,
   "id": "5ded0e48-41b7-4790-a134-26118f83b9a4",
   "metadata": {},
   "outputs": [
    {
     "name": "stdout",
     "output_type": "stream",
     "text": [
      "26.079339847373475\n",
      "24.880253825958427\n",
      "1.1990860214150596\n"
     ]
    }
   ],
   "source": [
    "#total loss =avg_expected_loss\n",
    "#so total loss lo bias chala ekkkuva vntundi and variance thakkuva vuntundhi\n",
    "\n",
    "lr=LinearRegression()\n",
    "avg_expected_loss,avg_bias,avg_var=bias_variance_decomp(lr,x_train,y_train\n",
    "                                                       ,x_test,y_test,loss='mse',random_seed=123)\n",
    "print(avg_expected_loss)\n",
    "print(avg_bias)\n",
    "print(avg_var)"
   ]
  },
  {
   "cell_type": "code",
   "execution_count": null,
   "id": "31fe7e60-17f1-458c-9424-e930fd3aabbb",
   "metadata": {},
   "outputs": [],
   "source": [
    "DecisonTressRegressor"
   ]
  },
  {
   "cell_type": "code",
   "execution_count": 27,
   "id": "c80d0447-1c1d-4ef3-ba1f-331a7e575dc7",
   "metadata": {},
   "outputs": [
    {
     "name": "stdout",
     "output_type": "stream",
     "text": [
      "34.002009055118116\n",
      "16.21266897047245\n",
      "17.789340084645666\n"
     ]
    }
   ],
   "source": [
    "#decision tree lo eppudina bias thakkuvuga and variance ekkuva vuntundhi\n",
    "dtr=DecisionTreeRegressor()\n",
    "\n",
    "avg_expected_loss,avg_bias,avg_var=bias_variance_decomp(dtr,x_train,y_train,x_test,y_test,loss='mse',random_seed=123)\n",
    "print(avg_expected_loss)\n",
    "print(avg_bias)\n",
    "print(avg_var)"
   ]
  },
  {
   "cell_type": "code",
   "execution_count": null,
   "id": "c3fdf767-f824-4ef6-980c-56f12f086271",
   "metadata": {},
   "outputs": [],
   "source": []
  }
 ],
 "metadata": {
  "kernelspec": {
   "display_name": "Python 3 (ipykernel)",
   "language": "python",
   "name": "python3"
  },
  "language_info": {
   "codemirror_mode": {
    "name": "ipython",
    "version": 3
   },
   "file_extension": ".py",
   "mimetype": "text/x-python",
   "name": "python",
   "nbconvert_exporter": "python",
   "pygments_lexer": "ipython3",
   "version": "3.11.7"
  }
 },
 "nbformat": 4,
 "nbformat_minor": 5
}
