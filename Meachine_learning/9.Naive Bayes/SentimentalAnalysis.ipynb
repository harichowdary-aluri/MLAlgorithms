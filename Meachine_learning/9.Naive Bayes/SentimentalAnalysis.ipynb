{
 "cells": [
  {
   "cell_type": "code",
   "execution_count": 1,
   "id": "8373879b-b6aa-450f-9e9a-930270847894",
   "metadata": {},
   "outputs": [],
   "source": [
    "import pandas as pd\n",
    "import numpy as np"
   ]
  },
  {
   "cell_type": "code",
   "execution_count": 13,
   "id": "524f76be-15f1-440a-b62e-a0500441ad09",
   "metadata": {},
   "outputs": [
    {
     "name": "stdout",
     "output_type": "stream",
     "text": [
      "<class 'pandas.core.frame.DataFrame'>\n",
      "RangeIndex: 50000 entries, 0 to 49999\n",
      "Data columns (total 2 columns):\n",
      " #   Column     Non-Null Count  Dtype \n",
      "---  ------     --------------  ----- \n",
      " 0   review     50000 non-null  object\n",
      " 1   sentiment  50000 non-null  object\n",
      "dtypes: object(2)\n",
      "memory usage: 781.4+ KB\n"
     ]
    }
   ],
   "source": [
    "df=pd.read_csv('Dataset.csv')\n",
    "df\n",
    "df.info()"
   ]
  },
  {
   "cell_type": "code",
   "execution_count": 14,
   "id": "8199f141-2eac-422b-9374-69990bf1c9d7",
   "metadata": {},
   "outputs": [
    {
     "data": {
      "text/html": [
       "<div>\n",
       "<style scoped>\n",
       "    .dataframe tbody tr th:only-of-type {\n",
       "        vertical-align: middle;\n",
       "    }\n",
       "\n",
       "    .dataframe tbody tr th {\n",
       "        vertical-align: top;\n",
       "    }\n",
       "\n",
       "    .dataframe thead th {\n",
       "        text-align: right;\n",
       "    }\n",
       "</style>\n",
       "<table border=\"1\" class=\"dataframe\">\n",
       "  <thead>\n",
       "    <tr style=\"text-align: right;\">\n",
       "      <th></th>\n",
       "      <th>review</th>\n",
       "      <th>sentiment</th>\n",
       "    </tr>\n",
       "  </thead>\n",
       "  <tbody>\n",
       "    <tr>\n",
       "      <th>46173</th>\n",
       "      <td>Never have i sat down for six hours straight t...</td>\n",
       "      <td>positive</td>\n",
       "    </tr>\n",
       "    <tr>\n",
       "      <th>3002</th>\n",
       "      <td>For those not in the know, the Asterix books a...</td>\n",
       "      <td>positive</td>\n",
       "    </tr>\n",
       "    <tr>\n",
       "      <th>23234</th>\n",
       "      <td>Peter Coyote was the only name that I recognis...</td>\n",
       "      <td>positive</td>\n",
       "    </tr>\n",
       "    <tr>\n",
       "      <th>11393</th>\n",
       "      <td>Well, would firstly like to clarify that Kaakh...</td>\n",
       "      <td>positive</td>\n",
       "    </tr>\n",
       "    <tr>\n",
       "      <th>18696</th>\n",
       "      <td>Angels and Demons: 3 out of 10: Clearly someth...</td>\n",
       "      <td>negative</td>\n",
       "    </tr>\n",
       "    <tr>\n",
       "      <th>...</th>\n",
       "      <td>...</td>\n",
       "      <td>...</td>\n",
       "    </tr>\n",
       "    <tr>\n",
       "      <th>29490</th>\n",
       "      <td>36/100. This is not to be confused with the de...</td>\n",
       "      <td>negative</td>\n",
       "    </tr>\n",
       "    <tr>\n",
       "      <th>36157</th>\n",
       "      <td>This was one of the worst films I have ever se...</td>\n",
       "      <td>negative</td>\n",
       "    </tr>\n",
       "    <tr>\n",
       "      <th>126</th>\n",
       "      <td>\"Revolt of the Zombies\" proves that having the...</td>\n",
       "      <td>negative</td>\n",
       "    </tr>\n",
       "    <tr>\n",
       "      <th>49718</th>\n",
       "      <td>There is a lot of crap coming out of Hollywood...</td>\n",
       "      <td>positive</td>\n",
       "    </tr>\n",
       "    <tr>\n",
       "      <th>23898</th>\n",
       "      <td>A fabulous film. With everything you could wan...</td>\n",
       "      <td>positive</td>\n",
       "    </tr>\n",
       "  </tbody>\n",
       "</table>\n",
       "<p>10000 rows × 2 columns</p>\n",
       "</div>"
      ],
      "text/plain": [
       "                                                  review sentiment\n",
       "46173  Never have i sat down for six hours straight t...  positive\n",
       "3002   For those not in the know, the Asterix books a...  positive\n",
       "23234  Peter Coyote was the only name that I recognis...  positive\n",
       "11393  Well, would firstly like to clarify that Kaakh...  positive\n",
       "18696  Angels and Demons: 3 out of 10: Clearly someth...  negative\n",
       "...                                                  ...       ...\n",
       "29490  36/100. This is not to be confused with the de...  negative\n",
       "36157  This was one of the worst films I have ever se...  negative\n",
       "126    \"Revolt of the Zombies\" proves that having the...  negative\n",
       "49718  There is a lot of crap coming out of Hollywood...  positive\n",
       "23898  A fabulous film. With everything you could wan...  positive\n",
       "\n",
       "[10000 rows x 2 columns]"
      ]
     },
     "execution_count": 14,
     "metadata": {},
     "output_type": "execute_result"
    }
   ],
   "source": [
    "df=df.sample(10000)\n",
    "df"
   ]
  },
  {
   "cell_type": "raw",
   "id": "901d9f90-a1bd-4da0-8e5b-49d099002e70",
   "metadata": {},
   "source": [
    "Text Cleaning\n",
    "Sample 10000 rows\n",
    "Remove html tags\n",
    "Remove special characters\n",
    "Converting every thing to lower case\n",
    "Removing Stop words\n",
    "Stemming"
   ]
  },
  {
   "cell_type": "code",
   "execution_count": 15,
   "id": "3b746ec4-dcce-48a1-92f2-859d7118c507",
   "metadata": {},
   "outputs": [
    {
     "data": {
      "text/plain": [
       "\"Peter Coyote was the only name that I recognised from the cast list, so I wasn't too keen on watching this film. The only comment on IMDb was positive, so I watched it on late night T.V. I would recommend this movie as a good late night viewing. It's better than a lot of this genre. The plot is excellent, the acting isn't brilliant, but it's not bad. I don't usually like flashbacks but in this film they work. As I've stated, I didn't recognise any of the cast by name, but I recognised Michele Lee, who gave a decent, hard working performance, as the woman wanting to stand by her man, who is lying to her. (Was it Knots Landing?) Anyhow, she's wearing really well. Note: You may enjoy it more, if you miss the first few seconds of the credits. I did and it helped me. When you see the end credits, you'll get what I mean The Wayne Kennedy character, who is really weird, takes this to a 7 rather than a 6.\""
      ]
     },
     "execution_count": 15,
     "metadata": {},
     "output_type": "execute_result"
    }
   ],
   "source": [
    "import re \n",
    "clean=re.compile('<.*?>')\n",
    "re.sub(clean,'',df.iloc[2].review)"
   ]
  },
  {
   "cell_type": "code",
   "execution_count": 16,
   "id": "63445489-e2c0-4769-8c10-135f259d4ac9",
   "metadata": {},
   "outputs": [],
   "source": [
    "def remove_html(text):\n",
    "    clean=re.compile('<.*?>')\n",
    "    return re.sub(clean,'',text)"
   ]
  },
  {
   "cell_type": "code",
   "execution_count": 17,
   "id": "b03e4a4a-9f13-4094-a00f-3184a7485fff",
   "metadata": {},
   "outputs": [
    {
     "data": {
      "text/plain": [
       "46173    Never have i sat down for six hours straight t...\n",
       "3002     For those not in the know, the Asterix books a...\n",
       "23234    Peter Coyote was the only name that I recognis...\n",
       "11393    Well, would firstly like to clarify that Kaakh...\n",
       "18696    Angels and Demons: 3 out of 10: Clearly someth...\n",
       "                               ...                        \n",
       "29490    36/100. This is not to be confused with the de...\n",
       "36157    This was one of the worst films I have ever se...\n",
       "126      \"Revolt of the Zombies\" proves that having the...\n",
       "49718    There is a lot of crap coming out of Hollywood...\n",
       "23898    A fabulous film. With everything you could wan...\n",
       "Name: review, Length: 10000, dtype: object"
      ]
     },
     "execution_count": 17,
     "metadata": {},
     "output_type": "execute_result"
    }
   ],
   "source": [
    "df['review']= df['review'].apply(remove_html)\n",
    "df['review']"
   ]
  },
  {
   "cell_type": "code",
   "execution_count": 18,
   "id": "f7437ef7-2825-49c7-8e2c-d39b280838e2",
   "metadata": {},
   "outputs": [],
   "source": [
    "def Convert_lower(text):\n",
    "    return text.lower()"
   ]
  },
  {
   "cell_type": "code",
   "execution_count": 19,
   "id": "b43d2090-9e2e-4622-b972-cd31712b92ff",
   "metadata": {},
   "outputs": [
    {
     "data": {
      "text/plain": [
       "46173    never have i sat down for six hours straight t...\n",
       "3002     for those not in the know, the asterix books a...\n",
       "23234    peter coyote was the only name that i recognis...\n",
       "11393    well, would firstly like to clarify that kaakh...\n",
       "18696    angels and demons: 3 out of 10: clearly someth...\n",
       "                               ...                        \n",
       "29490    36/100. this is not to be confused with the de...\n",
       "36157    this was one of the worst films i have ever se...\n",
       "126      \"revolt of the zombies\" proves that having the...\n",
       "49718    there is a lot of crap coming out of hollywood...\n",
       "23898    a fabulous film. with everything you could wan...\n",
       "Name: review, Length: 10000, dtype: object"
      ]
     },
     "execution_count": 19,
     "metadata": {},
     "output_type": "execute_result"
    }
   ],
   "source": [
    "df['review']=df['review'].apply(Convert_lower)\n",
    "df['review']"
   ]
  },
  {
   "cell_type": "code",
   "execution_count": 20,
   "id": "a90c3ec6-1c5d-4563-8fa6-e26c17c55a0d",
   "metadata": {},
   "outputs": [],
   "source": [
    "def remove_special(text):\n",
    "    x=''\n",
    "    for i in text:\n",
    "        if i.isalnum():\n",
    "            x=x+i\n",
    "        else:\n",
    "            x=x+' '\n",
    "    return x"
   ]
  },
  {
   "cell_type": "code",
   "execution_count": 21,
   "id": "6a49350a-359d-4665-89b4-e46aa452b4fb",
   "metadata": {},
   "outputs": [
    {
     "data": {
      "text/plain": [
       "46173    never have i sat down for six hours straight t...\n",
       "3002     for those not in the know  the asterix books a...\n",
       "23234    peter coyote was the only name that i recognis...\n",
       "11393    well  would firstly like to clarify that kaakh...\n",
       "18696    angels and demons  3 out of 10  clearly someth...\n",
       "                               ...                        \n",
       "29490    36 100  this is not to be confused with the de...\n",
       "36157    this was one of the worst films i have ever se...\n",
       "126       revolt of the zombies  proves that having the...\n",
       "49718    there is a lot of crap coming out of hollywood...\n",
       "23898    a fabulous film  with everything you could wan...\n",
       "Name: review, Length: 10000, dtype: object"
      ]
     },
     "execution_count": 21,
     "metadata": {},
     "output_type": "execute_result"
    }
   ],
   "source": [
    "df['review']=df['review'].apply(remove_special)\n",
    "df['review']"
   ]
  },
  {
   "cell_type": "code",
   "execution_count": 22,
   "id": "f6287b3e-1c93-41f5-b79e-85ad9f13efee",
   "metadata": {},
   "outputs": [],
   "source": [
    "#Remove stop words\n",
    "\n",
    "'''\n",
    "NLTK stands for Natural Language Toolkit. Its a leading platform for building Python programs to work with human language data.\n",
    "It provides easy-to-use interfaces to over 50 corpora and lexical resources such as WordNet, along with a suite of text processing libraries\n",
    "for classification, tokenization, stemming, tagging, parsing, and semantic reasoning, and more.\n",
    "'''\n",
    "\n",
    "\n",
    "import nltk\n",
    "from nltk.corpus import stopwords"
   ]
  },
  {
   "cell_type": "code",
   "execution_count": 23,
   "id": "b97cbee5-86cc-4b1b-aa19-7bc5a1646d6f",
   "metadata": {},
   "outputs": [],
   "source": [
    "def remove_stopwords(text):\n",
    "    x=[]\n",
    "    for i in text.split():\n",
    "        \n",
    "        if i not in stopwords.words('english'):\n",
    "            x.append(i)\n",
    "    y=x[:]\n",
    "    x.clear()\n",
    "    return y"
   ]
  },
  {
   "cell_type": "code",
   "execution_count": 24,
   "id": "d9b575fe-1c32-4efe-a15b-b0e16ea8ccf3",
   "metadata": {},
   "outputs": [],
   "source": [
    "df['review']=df['review'].apply(remove_stopwords)"
   ]
  },
  {
   "cell_type": "code",
   "execution_count": 25,
   "id": "9fc6ce1f-7ffc-4369-80ef-b77c48708e5d",
   "metadata": {},
   "outputs": [
    {
     "data": {
      "text/plain": [
       "46173    [never, sat, six, hours, straight, watch, mini...\n",
       "3002     [know, asterix, books, hugely, successful, ser...\n",
       "23234    [peter, coyote, name, recognised, cast, list, ...\n",
       "11393    [well, would, firstly, like, clarify, kaakha, ...\n",
       "18696    [angels, demons, 3, 10, clearly, something, ba...\n",
       "                               ...                        \n",
       "29490    [36, 100, confused, decent, arachnophobia, fil...\n",
       "36157    [one, worst, films, ever, seen, usually, prais...\n",
       "126      [revolt, zombies, proves, director, revamp, re...\n",
       "49718    [lot, crap, coming, hollywood, lately, friend,...\n",
       "23898    [fabulous, film, everything, could, want, film...\n",
       "Name: review, Length: 10000, dtype: object"
      ]
     },
     "execution_count": 25,
     "metadata": {},
     "output_type": "execute_result"
    }
   ],
   "source": [
    "df['review']"
   ]
  },
  {
   "cell_type": "code",
   "execution_count": null,
   "id": "854ab7ea-87ef-498b-a442-51040177af62",
   "metadata": {},
   "outputs": [],
   "source": []
  },
  {
   "cell_type": "code",
   "execution_count": null,
   "id": "a0525636-000c-42d5-aeaf-9ea16188c7f0",
   "metadata": {},
   "outputs": [],
   "source": []
  }
 ],
 "metadata": {
  "kernelspec": {
   "display_name": "Python 3 (ipykernel)",
   "language": "python",
   "name": "python3"
  },
  "language_info": {
   "codemirror_mode": {
    "name": "ipython",
    "version": 3
   },
   "file_extension": ".py",
   "mimetype": "text/x-python",
   "name": "python",
   "nbconvert_exporter": "python",
   "pygments_lexer": "ipython3",
   "version": "3.11.7"
  }
 },
 "nbformat": 4,
 "nbformat_minor": 5
}
