{
 "cells": [
  {
   "cell_type": "code",
   "execution_count": null,
   "id": "40998731-3d8c-4f81-adfe-ff2e067bb8bf",
   "metadata": {},
   "outputs": [],
   "source": [
    "import pandas as pd\n",
    "import numpy as np"
   ]
  },
  {
   "cell_type": "code",
   "execution_count": null,
   "id": "cc2f3e64-df66-4757-9fe0-d26e97897c81",
   "metadata": {},
   "outputs": [],
   "source": [
    "df=pd.read_csv('Dataset.csv')"
   ]
  },
  {
   "cell_type": "code",
   "execution_count": null,
   "id": "699f2f89-b5fa-43d3-8168-eb564403fd11",
   "metadata": {},
   "outputs": [],
   "source": [
    "print(df.head())"
   ]
  },
  {
   "cell_type": "code",
   "execution_count": null,
   "id": "12c90d46-46f1-40e6-a5aa-f9bb8fc4e421",
   "metadata": {},
   "outputs": [],
   "source": [
    "# out of 50000 if we want to perform operations only on 10000 rows\n",
    "df=df.sample(10000)\n",
    "df['review']"
   ]
  },
  {
   "cell_type": "code",
   "execution_count": null,
   "id": "d692727d-ec43-4852-8b62-ecf138eebbce",
   "metadata": {},
   "outputs": [],
   "source": [
    "def remove_special(text):\n",
    "    x=''\n",
    "    for i in text:\n",
    "        if i.isalnum():\n",
    "            x=x+i\n",
    "        else:\n",
    "            x=x+' '\n",
    "    return x\n",
    "        "
   ]
  },
  {
   "cell_type": "code",
   "execution_count": null,
   "id": "5a314771-392d-4ffa-ac4d-2fecb3b58996",
   "metadata": {},
   "outputs": [],
   "source": [
    "df['review']=df['review'].apply(remove_special)\n",
    "df['review']"
   ]
  },
  {
   "cell_type": "code",
   "execution_count": null,
   "id": "6d87a45d-7fca-46b8-97ad-bb488811532b",
   "metadata": {},
   "outputs": [],
   "source": [
    "#remove stop words\n",
    "\n",
    "\n",
    "import nltk\n",
    "nltk.download('stopwords')\n",
    "from nltk.corpus import stopwords"
   ]
  },
  {
   "cell_type": "code",
   "execution_count": null,
   "id": "15dae409-c01e-4b89-8c4f-27e75e56166c",
   "metadata": {},
   "outputs": [],
   "source": [
    " stopwords.words('english')"
   ]
  },
  {
   "cell_type": "code",
   "execution_count": null,
   "id": "d907d492-499d-47ac-accc-29d9ffaa873a",
   "metadata": {},
   "outputs": [],
   "source": [
    "text='Awonderfullittle    filmingtechnique  fashiongives sometimes senserealismentire    actorsextremelywell MichaelSheen got voicespat Youtrulyseeseamlesseditingguidedreferences diary wellworthwatchingterrificlywrittenperformed Amasterfulproductiononegreat comedy    realismreallycomeshomelittle fantasyguard ratherusetraditional techniquesremainssolid Itplaysknowledge particularlyscenesconcerningOrtonHalliwellsets flat muralsdecoratingevery terriblywell'\n",
    "text.split()"
   ]
  },
  {
   "cell_type": "code",
   "execution_count": null,
   "id": "e065f722-4179-4f7c-949d-85b45c0bf0f8",
   "metadata": {},
   "outputs": [],
   "source": [
    "def remove_stopwords(text):\n",
    "    x=[]\n",
    "    for i in text.split():\n",
    "        \n",
    "        if i not in  stopwords.words('english'):\n",
    "            x.append(i)\n",
    "    y=x[:]\n",
    "    x.clear()\n",
    "    return y"
   ]
  },
  {
   "cell_type": "code",
   "execution_count": null,
   "id": "6ab288fd-459f-4fd4-a761-0ceaea2d8529",
   "metadata": {},
   "outputs": [],
   "source": [
    "df['review']=df['review'].apply(remove_stopwords)\n"
   ]
  },
  {
   "cell_type": "code",
   "execution_count": null,
   "id": "60ed1f36-0636-4307-871b-2203e12096d6",
   "metadata": {},
   "outputs": [],
   "source": [
    "df['review']"
   ]
  }
 ],
 "metadata": {
  "kernelspec": {
   "display_name": "Python 3 (ipykernel)",
   "language": "python",
   "name": "python3"
  },
  "language_info": {
   "codemirror_mode": {
    "name": "ipython",
    "version": 3
   },
   "file_extension": ".py",
   "mimetype": "text/x-python",
   "name": "python",
   "nbconvert_exporter": "python",
   "pygments_lexer": "ipython3",
   "version": "3.11.7"
  }
 },
 "nbformat": 4,
 "nbformat_minor": 5
}
